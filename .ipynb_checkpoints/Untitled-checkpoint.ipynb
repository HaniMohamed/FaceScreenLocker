{
 "cells": [
  {
   "cell_type": "code",
   "execution_count": 2,
   "metadata": {},
   "outputs": [],
   "source": [
    "import cv2\n",
    "import numpy as np\n",
    "import sqlite3\n",
    "\n",
    "faceDetect=cv2.CascadeClassifier('haarcascade_frontalface_default.xml')\n",
    "cam=cv2.VideoCapture(0)\n",
    "rec=cv2.face.LBPHFaceRecognizer_create()\n",
    "rec.read(\"recognizer/trainingData.yml\")\n",
    "Id=0\n",
    "\n",
    "def getProfile(id):\n",
    "    conn=sqlite3.connect(\"FaceBase\")\n",
    "    cmd=\"Select * FROM People WHERE ID=\"+str(id)\n",
    "    cursor =conn.execute(cmd)\n",
    "    profile=None\n",
    "    for row in cursor:\n",
    "        profile = row\n",
    "    conn.close()\n",
    "    return profile\n",
    "\n",
    "font=cv2.FONT_HERSHEY_SIMPLEX\n",
    "while(True):\n",
    "    ret,img=cam.read();\n",
    "    gray=cv2.cvtColor(img,cv2.COLOR_BGR2GRAY)\n",
    "    faces= faceDetect.detectMultiScale(gray,1.2,5)\n",
    "    for(x,y,w,h) in faces:\n",
    "        cv2.rectangle(img,(x,y),(x+w,y+h),(0,255,0),2)\n",
    "        Id, conf= rec.predict(gray[y:y+h,x:x+w])\n",
    "        profile = getProfile(Id)\n",
    "        if(profile!=None):\n",
    "            cv2.putText(img,str(profile[1]), (x+5,y+h+20),font, 0.6,(255,0,0),1,cv2.LINE_AA)\n",
    "            cv2.putText(img,str(profile[2]), (x+5,y+h+40),font, 0.6,(255,0,0),1,cv2.LINE_AA)\n",
    "            cv2.putText(img,str(profile[3]), (x+5,y+h+60),font, 0.6,(255,0,0),1,cv2.LINE_AA)\n",
    "            cv2.putText(img,str(profile[4]), (x+5,y+h+80),font, 0.6,(255,0,0),1,cv2.LINE_AA)\n",
    "    cv2.imshow(\"Face\",img)\n",
    "    if(cv2.waitKey(1)==ord('q')):\n",
    "        break\n",
    "cam.release()\n",
    "cv2.destroyAllWindows()"
   ]
  },
  {
   "cell_type": "code",
   "execution_count": null,
   "metadata": {
    "collapsed": true
   },
   "outputs": [],
   "source": []
  },
  {
   "cell_type": "code",
   "execution_count": null,
   "metadata": {
    "collapsed": true
   },
   "outputs": [],
   "source": []
  }
 ],
 "metadata": {
  "kernelspec": {
   "display_name": "Python 3",
   "language": "python",
   "name": "python3"
  },
  "language_info": {
   "codemirror_mode": {
    "name": "ipython",
    "version": 3
   },
   "file_extension": ".py",
   "mimetype": "text/x-python",
   "name": "python",
   "nbconvert_exporter": "python",
   "pygments_lexer": "ipython3",
   "version": "3.6.2"
  }
 },
 "nbformat": 4,
 "nbformat_minor": 2
}
